{
 "cells": [
  {
   "cell_type": "code",
   "execution_count": 11,
   "id": "0a3c3fca",
   "metadata": {},
   "outputs": [
    {
     "name": "stdout",
     "output_type": "stream",
     "text": [
      "\n",
      " given play tennis data set:\n",
      "\n",
      "    Playtennis   Outlook Temperature Humidity    Wind\n",
      "0          No     Sunny         Hot     High    Weak\n",
      "1          No     Sunny         Hot     High  Strong\n",
      "2         Yes  Overcast         Hot     High    Weak\n",
      "3         Yes      Rain        Mild     High    Weak\n",
      "4         Yes      Rain        Cool   Normal    Weak\n",
      "5          No      Rain        Cool   Normal  Strong\n",
      "6         Yes  Overcast        Cool   Normal  Strong\n",
      "7          No     Sunny        Mild     High    Weak\n",
      "8         Yes     Sunny        Cool   Normal    Weak\n",
      "9         Yes      Rain        Mild   Normal    Weak\n",
      "10        Yes     Sunny        Mild   Normal  Strong\n",
      "11        Yes  Overcast        Mild     High  Strong\n",
      "12        Yes  Overcast         Hot   Normal    Weak\n",
      "13         No      Rain        Mild     High  Strong\n",
      "\n",
      " list of attributes ['Playtennis', 'Outlook', 'Temperature', 'Humidity', 'Wind']\n",
      "\n",
      "Predicting attributes: ['Outlook', 'Temperature', 'Humidity', 'Wind']\n"
     ]
    },
    {
     "ename": "NameError",
     "evalue": "name 'oldentropy' is not defined",
     "output_type": "error",
     "traceback": [
      "\u001b[1;31m---------------------------------------------------------------------------\u001b[0m",
      "\u001b[1;31mNameError\u001b[0m                                 Traceback (most recent call last)",
      "Cell \u001b[1;32mIn[11], line 45\u001b[0m\n\u001b[0;32m     42\u001b[0m names\u001b[38;5;241m.\u001b[39mremove(\u001b[38;5;124m'\u001b[39m\u001b[38;5;124mPlaytennis\u001b[39m\u001b[38;5;124m'\u001b[39m)\n\u001b[0;32m     43\u001b[0m \u001b[38;5;28mprint\u001b[39m(\u001b[38;5;124m\"\u001b[39m\u001b[38;5;130;01m\\n\u001b[39;00m\u001b[38;5;124mPredicting attributes:\u001b[39m\u001b[38;5;124m\"\u001b[39m,names)\n\u001b[1;32m---> 45\u001b[0m tree\u001b[38;5;241m=\u001b[39m \u001b[43mid3\u001b[49m\u001b[43m(\u001b[49m\u001b[43mtennis\u001b[49m\u001b[43m,\u001b[49m\u001b[38;5;124;43m'\u001b[39;49m\u001b[38;5;124;43mPlaytennis\u001b[39;49m\u001b[38;5;124;43m'\u001b[39;49m\u001b[43m,\u001b[49m\u001b[43mnames\u001b[49m\u001b[43m)\u001b[49m\n\u001b[0;32m     46\u001b[0m \u001b[38;5;28mprint\u001b[39m(\u001b[38;5;124m\"\u001b[39m\u001b[38;5;130;01m\\n\u001b[39;00m\u001b[38;5;130;01m\\n\u001b[39;00m\u001b[38;5;124m the resultant decision tree is:\u001b[39m\u001b[38;5;130;01m\\n\u001b[39;00m\u001b[38;5;124m\"\u001b[39m)\n\u001b[0;32m     47\u001b[0m \u001b[38;5;28mprint\u001b[39m(tree)\n",
      "Cell \u001b[1;32mIn[11], line 28\u001b[0m, in \u001b[0;36mid3\u001b[1;34m(sub, target, a)\u001b[0m\n\u001b[0;32m     26\u001b[0m     \u001b[38;5;28;01mreturn\u001b[39;00m \u001b[38;5;28mnext\u001b[39m(\u001b[38;5;28miter\u001b[39m(count))\n\u001b[0;32m     27\u001b[0m \u001b[38;5;28;01melse\u001b[39;00m:\n\u001b[1;32m---> 28\u001b[0m     gain\u001b[38;5;241m=\u001b[39m[information_gain(sub,attr,target) \u001b[38;5;28;01mfor\u001b[39;00m attr \u001b[38;5;129;01min\u001b[39;00m a]\n\u001b[0;32m     29\u001b[0m     \u001b[38;5;28mprint\u001b[39m(\u001b[38;5;124m\"\u001b[39m\u001b[38;5;130;01m\\n\u001b[39;00m\u001b[38;5;124m Gain=\u001b[39m\u001b[38;5;124m\"\u001b[39m,gain)\n\u001b[0;32m     30\u001b[0m     maximum\u001b[38;5;241m=\u001b[39mgain\u001b[38;5;241m.\u001b[39mindex(\u001b[38;5;28mmax\u001b[39m(gain))\n",
      "Cell \u001b[1;32mIn[11], line 28\u001b[0m, in \u001b[0;36m<listcomp>\u001b[1;34m(.0)\u001b[0m\n\u001b[0;32m     26\u001b[0m     \u001b[38;5;28;01mreturn\u001b[39;00m \u001b[38;5;28mnext\u001b[39m(\u001b[38;5;28miter\u001b[39m(count))\n\u001b[0;32m     27\u001b[0m \u001b[38;5;28;01melse\u001b[39;00m:\n\u001b[1;32m---> 28\u001b[0m     gain\u001b[38;5;241m=\u001b[39m[\u001b[43minformation_gain\u001b[49m\u001b[43m(\u001b[49m\u001b[43msub\u001b[49m\u001b[43m,\u001b[49m\u001b[43mattr\u001b[49m\u001b[43m,\u001b[49m\u001b[43mtarget\u001b[49m\u001b[43m)\u001b[49m \u001b[38;5;28;01mfor\u001b[39;00m attr \u001b[38;5;129;01min\u001b[39;00m a]\n\u001b[0;32m     29\u001b[0m     \u001b[38;5;28mprint\u001b[39m(\u001b[38;5;124m\"\u001b[39m\u001b[38;5;130;01m\\n\u001b[39;00m\u001b[38;5;124m Gain=\u001b[39m\u001b[38;5;124m\"\u001b[39m,gain)\n\u001b[0;32m     30\u001b[0m     maximum\u001b[38;5;241m=\u001b[39mgain\u001b[38;5;241m.\u001b[39mindex(\u001b[38;5;28mmax\u001b[39m(gain))\n",
      "Cell \u001b[1;32mIn[11], line 21\u001b[0m, in \u001b[0;36minformation_gain\u001b[1;34m(d, split, target)\u001b[0m\n\u001b[0;32m     19\u001b[0m newentropy\u001b[38;5;241m=\u001b[39m\u001b[38;5;28msum\u001b[39m(agent[\u001b[38;5;124m'\u001b[39m\u001b[38;5;124mEntropy\u001b[39m\u001b[38;5;124m'\u001b[39m]\u001b[38;5;241m*\u001b[39magent[\u001b[38;5;124m'\u001b[39m\u001b[38;5;124mobservations\u001b[39m\u001b[38;5;124m'\u001b[39m])\n\u001b[0;32m     20\u001b[0m olsentropy\u001b[38;5;241m=\u001b[39m entropy(d[target])\n\u001b[1;32m---> 21\u001b[0m \u001b[38;5;28;01mreturn\u001b[39;00m \u001b[43moldentropy\u001b[49m \u001b[38;5;241m-\u001b[39m newentropy\n",
      "\u001b[1;31mNameError\u001b[0m: name 'oldentropy' is not defined"
     ]
    }
   ],
   "source": [
    "import pandas as pd\n",
    "from collections import Counter\n",
    "import math\n",
    "\n",
    "tennis= pd.read_csv('tennis.csv')\n",
    "print(\"\\n given play tennis data set:\\n\\n\",tennis)\n",
    "\n",
    "def entropy(alist):\n",
    "    c=Counter( x for x in alist)\n",
    "    instances=len(alist)\n",
    "    prob=[x/instances for x in c.values()]\n",
    "    return  sum([-p*math.log(p,2) for p in prob])\n",
    "\n",
    "def information_gain(d,split,target):\n",
    "    splitting= d.groupby(split)\n",
    "    n=len(d.index)\n",
    "    agent=splitting.agg({target:[entropy,lambda x: len(x)/n]})[target]\n",
    "    agent.columns=['Entropy','observations']\n",
    "    newentropy=sum(agent['Entropy']*agent['observations'])\n",
    "    oldentropy= entropy(d[target])\n",
    "    return oldentropy - newentropy\n",
    "\n",
    "def id3(sub,target,a):\n",
    "    count=Counter(x for x in sub[target])\n",
    "    if len(count)==1:\n",
    "        return next(iter(count))\n",
    "    else:\n",
    "        gain=[information_gain(sub,attr,target) for attr in a]\n",
    "        print(\"\\n Gain=\",gain)\n",
    "        maximum=gain.index(max(gain))\n",
    "        best=a[maximum]\n",
    "        print(\"\\nBest Attribute:\",best)\n",
    "        tree={best:{}}\n",
    "        remaining=[i for i in a if i!=best]\n",
    "        \n",
    "        for val,subset in sub.groupby(best):\n",
    "            subtree=id3(subset,target,remaining)\n",
    "            tree[best][val]=subtree\n",
    "        return tree\n",
    "names=list(tennis.columns)\n",
    "print(\"\\n list of attributes\",names)\n",
    "names.remove('Playtennis')\n",
    "print(\"\\nPredicting attributes:\",names)\n",
    "\n",
    "tree= id3(tennis,'Playtennis',names)\n",
    "print(\"\\n\\n the resultant decision tree is:\\n\")\n",
    "print(tree)\n",
    "        \n"
   ]
  },
  {
   "cell_type": "code",
   "execution_count": null,
   "id": "bb17f6c7",
   "metadata": {},
   "outputs": [],
   "source": []
  }
 ],
 "metadata": {
  "kernelspec": {
   "display_name": "Python 3 (ipykernel)",
   "language": "python",
   "name": "python3"
  },
  "language_info": {
   "codemirror_mode": {
    "name": "ipython",
    "version": 3
   },
   "file_extension": ".py",
   "mimetype": "text/x-python",
   "name": "python",
   "nbconvert_exporter": "python",
   "pygments_lexer": "ipython3",
   "version": "3.10.9"
  }
 },
 "nbformat": 4,
 "nbformat_minor": 5
}
